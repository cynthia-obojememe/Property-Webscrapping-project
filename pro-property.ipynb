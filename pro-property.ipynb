{
 "cells": [
  {
   "cell_type": "code",
   "execution_count": 1,
   "id": "1eb85d88",
   "metadata": {},
   "outputs": [],
   "source": [
    "#Import needed libraries\n",
    "import pandas\n",
    "import requests\n",
    "from bs4 import BeautifulSoup\n",
    "import pandas as pd\n",
    "import numpy\n",
    "import datetime\n"
   ]
  },
  {
   "cell_type": "code",
   "execution_count": 2,
   "id": "e8f76665",
   "metadata": {},
   "outputs": [],
   "source": [
    "\n",
    "\n",
    "# Create an empty container to store the returns results from the for loop\n",
    "property_info = []\n",
    "\n",
    "\n",
    "# create a function \n",
    "def property_pro(location, page ):\n",
    "    \n",
    "    # implement the requests library to scrap the property pro website.\n",
    "    site_url = f'https://www.propertypro.ng/property-for-rent?search={location}&auto=&type=&bedroom=&min_price=&max_price=&page={page}'\n",
    "    rent_house = requests.get(site_url)\n",
    "    \n",
    "    # implement the beautifulsoup library to view the  html content of the property pro website.\n",
    "    soup = BeautifulSoup(rent_house.content, 'html.parser')\n",
    "    \n",
    "    apartments = soup.find_all('div', class_='single-room-sale listings-property')\n",
    "    \n",
    "    #print the len of the listing on a page\n",
    "    print(\"Number of apartment listings on a page:\", len(apartments))\n",
    "    today = datetime.date.today()\n",
    "    \n",
    "# create a loop to scrap specific details from each html content    \n",
    "    for apartment in apartments:\n",
    "        \n",
    "        apartment_type = apartment.find('h3').text.replace('\\n', ' ')\n",
    "        apartment_location = apartment.find_next('h4').find_next(\"h4\").text.replace('\\n', ' ')\n",
    "        apartment_price = apartment.find_next('div', {'class': \"n50\"}).text.strip()[:16].replace('\\n', ' ')\n",
    "        \n",
    "# create a try rule to catch 'None values' and other exception and add content with missing text values      \n",
    "        try:\n",
    "            \n",
    "            apartment_rating = apartment.find_next('div', class_=\"n50\").h4.text.replace('\\n', ' ')\n",
    "            apartment_status = apartment.find('div', class_='furnished-btn').text.strip().replace('\\n', ' ')\n",
    "            post_date = apartment.find('h5').text.strip().replace('\\n', ' ')\n",
    "        except Exception as e:\n",
    "            \n",
    "            apartment_rating = None\n",
    "            apartment_status = None\n",
    "            post_date = None\n",
    "            \n",
    "    #create for loop to get text content from multiple 'span' container\n",
    "        for apartment_utilities in apartment.find_all(\"div\", class_='fur-areea'):\n",
    "            apartment_utilities = apartment_utilities.text.replace('\\n', ' ')\n",
    "    \n",
    "    \n",
    "        pro_info = (\n",
    "            apartment_type, apartment_location, post_date, apartment_price, apartment_status, apartment_utilities,\n",
    "            apartment_rating)\n",
    "        property_info.append(pro_info)\n",
    "    return\n",
    "    \n",
    "   "
   ]
  },
  {
   "cell_type": "code",
   "execution_count": 5,
   "id": "d36b76d8",
   "metadata": {},
   "outputs": [
    {
     "name": "stdout",
     "output_type": "stream",
     "text": [
      "Number of apartment listings on a page: 21\n",
      "Number of apartment listings on a page: 20\n",
      "Number of apartment listings on a page: 21\n",
      "Number of apartment listings on a page: 20\n"
     ]
    }
   ],
   "source": [
    "for x in range (0,2):\n",
    "    property_pro(\"Lagos\", x )\n",
    "    property_pro('Edo', x)"
   ]
  },
  {
   "cell_type": "code",
   "execution_count": null,
   "id": "342cbdb6",
   "metadata": {
    "scrolled": true
   },
   "outputs": [],
   "source": [
    "\n",
    "len(property_info)"
   ]
  },
  {
   "cell_type": "code",
   "execution_count": null,
   "id": "d7e91d59",
   "metadata": {},
   "outputs": [],
   "source": [
    "#create a dataframe and setup column header\n",
    "df = pd.DataFrame(property_info,columns=['Apartment', 'Location','Price','Post date','Status', 'Utilities','Ratings'])\n",
    "#view dataframe\n",
    "df.head(20)"
   ]
  },
  {
   "cell_type": "code",
   "execution_count": null,
   "id": "8fb8170f",
   "metadata": {},
   "outputs": [],
   "source": [
    "\n",
    "df.to_csv(\"Pro-property project.csv\", encoding='utf-8', index=False)"
   ]
  },
  {
   "cell_type": "code",
   "execution_count": null,
   "id": "6e53aa0b",
   "metadata": {},
   "outputs": [],
   "source": []
  }
 ],
 "metadata": {
  "kernelspec": {
   "display_name": "Python 3 (ipykernel)",
   "language": "python",
   "name": "python3"
  },
  "language_info": {
   "codemirror_mode": {
    "name": "ipython",
    "version": 3
   },
   "file_extension": ".py",
   "mimetype": "text/x-python",
   "name": "python",
   "nbconvert_exporter": "python",
   "pygments_lexer": "ipython3",
   "version": "3.9.12"
  }
 },
 "nbformat": 4,
 "nbformat_minor": 5
}
